{
 "cells": [
  {
   "cell_type": "code",
   "execution_count": null,
   "metadata": {},
   "outputs": [],
   "source": [
    "using DifferentialEquations, Plots\n",
    "\n",
    "# Circuit parameters\n",
    "L = 0.5   # Inductance (H)\n",
    "R = 1.0   # Resistance (Ohms)\n",
    "C = 0.1   # Capacitance (F)\n",
    "V0 = 5.0  # Voltage amplitude (V)\n",
    "ω = 50.0  # Frequency (rad/s)\n",
    "\n",
    "# Define the ODE system\n",
    "function circuit!(du, u, p, t)\n",
    "    V = V0 * sin(ω * t)\n",
    "    I, VC = u\n",
    "\n",
    "    du[1] = (V - R * I - VC) / L           # dI/dt\n",
    "    du[2] = I / C                          # dVC/dt (Voltage across the capacitor)\n",
    "end\n",
    "\n",
    "# Initial conditions\n",
    "u0 = [0.0, 0.0]  # Initial current and capacitor voltage\n",
    "\n",
    "# Time span for the simulation\n",
    "tspan = (0.0, 2)\n",
    "\n",
    "# Solve the system of ODEs\n",
    "prob = ODEProblem(circuit!, u0, tspan)\n",
    "sol = solve(prob, Tsit5())\n",
    "\n",
    "# Plotting the results\n",
    "plot(sol, xlabel=\"Time (s)\", ylabel=\"Current (A) and Voltage (V)\", layout=(2, 1))\n",
    "plot!(sol[1], label=\"Current (I)\", subplot=1)\n",
    "plot!(sol[2], label=\"Capacitor Voltage (V_C)\", subplot=2)"
   ]
  }
 ],
 "metadata": {
  "language_info": {
   "name": "python"
  }
 },
 "nbformat": 4,
 "nbformat_minor": 2
}
